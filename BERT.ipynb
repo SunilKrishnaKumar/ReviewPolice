{
  "cells": [
    {
      "cell_type": "code",
      "execution_count": 6,
      "metadata": {
        "colab": {
          "base_uri": "https://localhost:8080/"
        },
        "id": "DSQbls9iLUdv",
        "outputId": "a13d9720-4539-4f0e-e8ff-c85e8b9f2aff"
      },
      "outputs": [
        {
          "name": "stdout",
          "output_type": "stream",
          "text": [
            "Loaded dataset with 608598 items.\n"
          ]
        }
      ],
      "source": [
        "import os\n",
        "import pandas as pd\n",
        "\n",
        "# Load dataset\n",
        "dataset_folder = os.path.join('datasets')\n",
        "dataset_path = os.path.join(dataset_folder, 'yelpzip.csv')\n",
        "dataset = pd.read_csv(dataset_path)\n",
        "dataset['review'].fillna('', inplace=True)\n",
        "dataset_size = len(dataset)\n",
        "print(f'Loaded dataset with {dataset_size} items.')"
      ]
    },
    {
      "cell_type": "code",
      "execution_count": 2,
      "metadata": {
        "id": "RIGKlBdrMHCl"
      },
      "outputs": [],
      "source": [
        "import numpy as np\n",
        "\n",
        "# Split dataset into training, validation, testing\n",
        "training_ratio, validation_ratio, testing_ratio = [0.9, 0.05, 0.05]\n",
        "training_end = int(dataset_size * training_ratio)\n",
        "validation_end = training_end + int(dataset_size * validation_ratio)\n",
        "train = dataset.iloc[:training_end, :]\n",
        "validation = dataset.iloc[training_end:validation_end, :]\n",
        "test = dataset.iloc[validation_end:, :]\n",
        "\n",
        "# Parse into x and y\n",
        "def to_x_y(df):\n",
        "  ratings = df['rating'].to_numpy()\n",
        "  reviews = df['review'].to_numpy()\n",
        "  y = df['label'].to_numpy(dtype=np.float32)\n",
        "  return (ratings, reviews), y\n",
        "\n",
        "train_x, train_y = to_x_y(train)\n",
        "validation_x, validation_y = to_x_y(validation)\n",
        "test_x, test_y = to_x_y(test)"
      ]
    },
    {
      "cell_type": "code",
      "execution_count": 3,
      "metadata": {
        "id": "9eRq2skHOJe5"
      },
      "outputs": [],
      "source": [
        "import tensorflow as tf\n",
        "import tensorflow_hub as hub\n",
        "import tensorflow_text as text\n",
        "from official.nlp import optimization\n",
        "\n",
        "# Create model\n",
        "\n",
        "# Parameters\n",
        "lr = 3e-5\n",
        "epochs = 5\n",
        "batch_size = 32\n",
        "steps_per_epoch = len(train_x[1])\n",
        "num_train_steps = steps_per_epoch * epochs\n",
        "num_warmup_steps = int(0.1 * num_train_steps)\n",
        "\n",
        "# Tensorflow hub models\n",
        "PREPROCESSING_URL = 'https://tfhub.dev/tensorflow/bert_en_uncased_preprocess/3'\n",
        "LARGE_MODEL_URL = 'https://tfhub.dev/tensorflow/bert_en_uncased_L-12_H-768_A-12/3'\n",
        "MED_MODEL_URL = 'https://tfhub.dev/tensorflow/small_bert/bert_en_uncased_L-6_H-512_A-8/2'\n",
        "SMALL_MODEL_URL = 'https://tfhub.dev/tensorflow/small_bert/bert_en_uncased_L-4_H-256_A-4/2'\n",
        "\n",
        "def create_model(MODEL_URL):\n",
        "  input = tf.keras.layers.Input(shape=(), dtype=tf.string)\n",
        "  preprocessing = hub.KerasLayer(PREPROCESSING_URL)\n",
        "  preprocessing_layer = preprocessing(input)\n",
        "  bert_model = hub.KerasLayer(MODEL_URL, trainable=True)\n",
        "  bert_layer = bert_model(preprocessing_layer)\n",
        "  output = tf.keras.layers.Dense(1, activation='sigmoid')(bert_layer['pooled_output'])\n",
        "  model = tf.keras.Model(input, output)\n",
        "  loss = tf.keras.losses.BinaryCrossentropy()\n",
        "  optimizer = optimization.create_optimizer(\n",
        "    init_lr=lr,\n",
        "    num_train_steps=num_train_steps,\n",
        "    num_warmup_steps=num_warmup_steps,\n",
        "    optimizer_type='adamw',\n",
        "  )\n",
        "  metrics = tf.metrics.BinaryAccuracy()\n",
        "  model.compile(loss=loss, optimizer=optimizer, metrics=metrics)\n",
        "  return model\n",
        "\n",
        "model = create_model(MED_MODEL_URL)\n"
      ]
    },
    {
      "cell_type": "code",
      "execution_count": 30,
      "metadata": {
        "colab": {
          "base_uri": "https://localhost:8080/",
          "height": 437
        },
        "id": "EptFjswQCQ5G",
        "outputId": "f3657df6-fec0-49eb-b84a-de2218074717"
      },
      "outputs": [
        {
          "name": "stdout",
          "output_type": "stream",
          "text": [
            "Found GPU at: /device:GPU:0\n",
            "Using class weights: {0: 1, 1: 3.2797452282043142}\n",
            "Epoch 1/2\n",
            "17117/17117 [==============================] - 5314s 310ms/step - loss: 0.8591 - binary_accuracy: 0.8174 - val_loss: 0.4872 - val_binary_accuracy: 0.8646\n",
            "Epoch 2/2\n",
            "17117/17117 [==============================] - 5473s 320ms/step - loss: 0.8155 - binary_accuracy: 0.8628 - val_loss: 0.5319 - val_binary_accuracy: 0.8316\n"
          ]
        }
      ],
      "source": [
        "# Training\n",
        "epochs = 2\n",
        "batch_size=32\n",
        "\n",
        "train_x_ratings, train_x_reviews = train_x\n",
        "validation_x_ratings, validation_x_reviews = validation_x\n",
        "\n",
        "# Ensure being run on GPU\n",
        "device_name = tf.test.gpu_device_name()\n",
        "if device_name != '/device:GPU:0':\n",
        "  raise SystemError('GPU device not found')\n",
        "print('Found GPU at: {}'.format(device_name))\n",
        "\n",
        "# Determine how to weight each class\n",
        "num_negative = np.count_nonzero(train_y == 0)\n",
        "num_positive = np.count_nonzero(train_y == 1)\n",
        "class_weight = {\n",
        "    0: 1,\n",
        "    1: num_negative / num_positive / 2,\n",
        "}\n",
        "print(f'Using class weights: {class_weight}')\n",
        "\n",
        "model.fit(\n",
        "  x=train_x_reviews,\n",
        "  y=train_y,\n",
        "  batch_size=batch_size,\n",
        "  epochs=epochs,\n",
        "  validation_data=(validation_x_reviews, validation_y),\n",
        "  class_weight=class_weight,\n",
        ")\n",
        "model.save_weights(os.path.join('trained_models', 'BERT', 'model'))"
      ]
    },
    {
      "cell_type": "code",
      "execution_count": 19,
      "metadata": {},
      "outputs": [
        {
          "name": "stdout",
          "output_type": "stream",
          "text": [
            "951/951 [==============================] - 157s 164ms/step\n",
            "Overall accuracy with threshold of 0.5: 48.99280339127863%\n",
            "  Accuracy on positives: 66.48241206030151%\n",
            "  Accuracy on negatives: 46.36119617405769%\n",
            "  AuC: 0.5919931734966846\n"
          ]
        },
        {
          "data": {
            "image/png": "[encoded data removed]",
            "text/plain": [
              "<Figure size 432x288 with 1 Axes>"
            ]
          },
          "metadata": {
            "needs_background": "light"
          },
          "output_type": "display_data"
        }
      ],
      "source": [
        "import matplotlib.pyplot as plt\n",
        "from sklearn.metrics import roc_curve, auc\n",
        "\n",
        "tf.get_logger().setLevel('WARNING')\n",
        "\n",
        "def plot_model(name, model_url):\n",
        "    model_path = os.path.join('trained_models', name, 'model')\n",
        "    loaded_model = create_model(model_url)\n",
        "    loaded_model.load_weights(model_path).expect_partial()\n",
        "    model_preds = loaded_model.predict(test_x[1], batch_size=32, verbose=1).squeeze()\n",
        "    p = np.where(model_preds > 0.5, 1, 0)\n",
        "    accuracy = np.count_nonzero(p == test_y) / len(test_y) * 100\n",
        "    num_negative = len(test_y[test_y == 0])\n",
        "    num_positive = len(test_y[test_y == 1])\n",
        "    negative_accuracy = np.count_nonzero((p == test_y) & (test_y == 0)) / num_negative * 100\n",
        "    positive_accuracy = np.count_nonzero((p == test_y) & (test_y == 1)) / num_positive * 100\n",
        "    print(f'Overall accuracy with threshold of 0.5: {accuracy}%')\n",
        "    print(f'  Accuracy on positives: {positive_accuracy}%')\n",
        "    print(f'  Accuracy on negatives: {negative_accuracy}%')\n",
        "    fpr, tpr, threshold = roc_curve(test_y, model_preds)\n",
        "    print(f'  AuC: {auc(fpr, tpr)}')\n",
        "    plt.plot(fpr, tpr, color='red')\n",
        "    plt.title(f'ROC curve for {name}')\n",
        "\n",
        "plot_model('BERT_49_66', MED_MODEL_URL)"
      ]
    },
    {
      "cell_type": "code",
      "execution_count": 20,
      "metadata": {},
      "outputs": [
        {
          "name": "stdout",
          "output_type": "stream",
          "text": [
            "951/951 [==============================] - 121s 127ms/step\n",
            "Overall accuracy with threshold of 0.5: 63.58318819624726%\n",
            "  Accuracy on positives: 43.99497487437186%\n",
            "  Accuracy on negatives: 66.5305659521379%\n",
            "  AuC: 0.5844798878137997\n"
          ]
        },
        {
          "data": {
            "image/png": "[encoded data removed]",
            "text/plain": [
              "<Figure size 432x288 with 1 Axes>"
            ]
          },
          "metadata": {
            "needs_background": "light"
          },
          "output_type": "display_data"
        }
      ],
      "source": [
        "plot_model('BERT_64_44', SMALL_MODEL_URL)"
      ]
    },
    {
      "cell_type": "code",
      "execution_count": 21,
      "metadata": {},
      "outputs": [
        {
          "name": "stdout",
          "output_type": "stream",
          "text": [
            "951/951 [==============================] - 120s 126ms/step\n",
            "Overall accuracy with threshold of 0.5: 68.28562978541619%\n",
            "  Accuracy on positives: 34.22110552763819%\n",
            "  Accuracy on negatives: 73.411213186647%\n",
            "  AuC: 0.5583672397753008\n"
          ]
        },
        {
          "data": {
            "image/png": "[encoded data removed]",
            "text/plain": [
              "<Figure size 432x288 with 1 Axes>"
            ]
          },
          "metadata": {
            "needs_background": "light"
          },
          "output_type": "display_data"
        }
      ],
      "source": [
        "plot_model('BERT_67_36', SMALL_MODEL_URL)"
      ]
    },
    {
      "cell_type": "code",
      "execution_count": 22,
      "metadata": {},
      "outputs": [
        {
          "name": "stdout",
          "output_type": "stream",
          "text": [
            "951/951 [==============================] - 121s 127ms/step\n",
            "Overall accuracy with threshold of 0.5: 79.50445269626368%\n",
            "  Accuracy on positives: 15.100502512562814%\n",
            "  Accuracy on negatives: 89.19511549657858%\n",
            "  AuC: 0.5659729453285102\n"
          ]
        },
        {
          "data": {
            "image/png": "[encoded data removed]",
            "text/plain": [
              "<Figure size 432x288 with 1 Axes>"
            ]
          },
          "metadata": {
            "needs_background": "light"
          },
          "output_type": "display_data"
        }
      ],
      "source": [
        "plot_model('BERT_79_16', SMALL_MODEL_URL)"
      ]
    },
    {
      "cell_type": "code",
      "execution_count": 23,
      "metadata": {},
      "outputs": [
        {
          "name": "stdout",
          "output_type": "stream",
          "text": [
            "951/951 [==============================] - 157s 165ms/step\n",
            "Overall accuracy with threshold of 0.5: 83.00417337583386%\n",
            "  Accuracy on positives: 10.175879396984925%\n",
            "  Accuracy on negatives: 93.96242108048844%\n",
            "  AuC: 0.5926425253179815\n"
          ]
        },
        {
          "data": {
            "image/png": "[encoded data removed]",
            "text/plain": [
              "<Figure size 432x288 with 1 Axes>"
            ]
          },
          "metadata": {
            "needs_background": "light"
          },
          "output_type": "display_data"
        }
      ],
      "source": [
        "plot_model('BERT_83_11', MED_MODEL_URL)"
      ]
    }
  ],
  "metadata": {
    "accelerator": "GPU",
    "colab": {
      "name": "Data Mining BERT",
      "provenance": []
    },
    "kernelspec": {
      "display_name": "Python 3",
      "name": "python3"
    },
    "language_info": {
      "codemirror_mode": {
        "name": "ipython",
        "version": 3
      },
      "file_extension": ".py",
      "mimetype": "text/x-python",
      "name": "python",
      "nbconvert_exporter": "python",
      "pygments_lexer": "ipython3",
      "version": "3.8.5"
    }
  },
  "nbformat": 4,
  "nbformat_minor": 0
}
