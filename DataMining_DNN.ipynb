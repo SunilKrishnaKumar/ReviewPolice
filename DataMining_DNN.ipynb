{
  "nbformat": 4,
  "nbformat_minor": 0,
  "metadata": {
    "colab": {
      "name": "DataMining_DNN.ipynb",
      "provenance": [],
      "collapsed_sections": [
        "swn8mYH6J7gX",
        "ajC8VYfSLle4",
        "tODMj8D-L5jQ",
        "cpbR1YJEMD6Z",
        "xvDIO3iSMNwD"
      ]
    },
    "kernelspec": {
      "name": "python3",
      "display_name": "Python 3"
    },
    "language_info": {
      "name": "python"
    }
  },
  "cells": [
    {
      "cell_type": "code",
      "metadata": {
        "colab": {
          "base_uri": "https://localhost:8080/"
        },
        "id": "j4T9Id74foWJ",
        "outputId": "b0240662-9d92-4d93-c102-005bb10325c6"
      },
      "source": [
        "from google.colab import drive\n",
        "drive.mount('/content/drive')"
      ],
      "execution_count": null,
      "outputs": [
        {
          "output_type": "stream",
          "name": "stdout",
          "text": [
            "Mounted at /content/drive\n"
          ]
        }
      ]
    },
    {
      "cell_type": "code",
      "metadata": {
        "id": "mI_qMLUwgObV"
      },
      "source": [
        "path = '/content/drive/Shareddrives/DataMiningProject'"
      ],
      "execution_count": null,
      "outputs": []
    },
    {
      "cell_type": "markdown",
      "metadata": {
        "id": "0wzVVnaigb_D"
      },
      "source": [
        "# **Deep Neural Network Classifier**"
      ]
    },
    {
      "cell_type": "code",
      "metadata": {
        "id": "Pg0n9sBcgWaj"
      },
      "source": [
        "import os\n",
        "import pandas as pd\n",
        "import numpy as np\n",
        "import math\n",
        "import matplotlib.pyplot as plt\n",
        "%matplotlib inline\n",
        "#from tqdm import tqdm_notebook as tqdm\n",
        "from keras.models import Sequential\n",
        "from keras.layers import Dense, Dropout, Activation, LeakyReLU\n",
        "from keras import backend\n",
        "from keras.callbacks import ModelCheckpoint\n",
        "from keras.regularizers import l2\n",
        "from keras.models import load_model\n",
        "\n",
        "import sklearn\n",
        "from sklearn.metrics import mean_squared_error"
      ],
      "execution_count": null,
      "outputs": []
    },
    {
      "cell_type": "code",
      "metadata": {
        "id": "6jq5FlIYk1Dt"
      },
      "source": [
        "# datasets_path = os.path.join(path, 'datasets')"
      ],
      "execution_count": null,
      "outputs": []
    },
    {
      "cell_type": "code",
      "metadata": {
        "id": "wH25bbZqlGXQ"
      },
      "source": [
        ""
      ],
      "execution_count": null,
      "outputs": []
    },
    {
      "cell_type": "code",
      "metadata": {
        "id": "GZ9HaSHlgjTL"
      },
      "source": [
        "X_train = np.loadtxt(os.path.join(path,'X_train.out'), delimiter=',')  # last column is rating"
      ],
      "execution_count": null,
      "outputs": []
    },
    {
      "cell_type": "code",
      "metadata": {
        "id": "r7Sjvv8lkncS"
      },
      "source": [
        "X_test = np.loadtxt(os.path.join(path,'X_test.out'), delimiter=',')"
      ],
      "execution_count": null,
      "outputs": []
    },
    {
      "cell_type": "code",
      "metadata": {
        "id": "DmS6AB5dltlW"
      },
      "source": [
        "X_val = np.loadtxt(os.path.join(path,'X_val.out'), delimiter=',')"
      ],
      "execution_count": null,
      "outputs": []
    },
    {
      "cell_type": "code",
      "metadata": {
        "id": "HWIc1u4pluJ1"
      },
      "source": [
        "y_train = np.loadtxt(os.path.join(path,'y_train.out'), delimiter=',')"
      ],
      "execution_count": null,
      "outputs": []
    },
    {
      "cell_type": "code",
      "metadata": {
        "id": "WzEw2cOSlukf"
      },
      "source": [
        "y_val = np.loadtxt(os.path.join(path,'y_val.out'), delimiter=',')"
      ],
      "execution_count": null,
      "outputs": []
    },
    {
      "cell_type": "code",
      "metadata": {
        "colab": {
          "base_uri": "https://localhost:8080/"
        },
        "id": "NI_PdyvFmEkl",
        "outputId": "7176b58d-b61e-4684-a2d6-4af9d5f30088"
      },
      "source": [
        "X_train.shape, X_test.shape, X_val.shape, y_train.shape, y_val.shape"
      ],
      "execution_count": null,
      "outputs": [
        {
          "output_type": "execute_result",
          "data": {
            "text/plain": [
              "((46104, 902), (61538, 902), (35918, 924), (250874,), (35918,))"
            ]
          },
          "metadata": {},
          "execution_count": 15
        }
      ]
    },
    {
      "cell_type": "code",
      "metadata": {
        "id": "GXh-RiYhmei9"
      },
      "source": [
        "backend.clear_session()"
      ],
      "execution_count": null,
      "outputs": []
    },
    {
      "cell_type": "code",
      "metadata": {
        "id": "Sa9y4aBqnXW1"
      },
      "source": [
        "nodes = 924\n",
        "model = Sequential()\n",
        "model.add(Dense(nodes, input_dim=X_train.shape[1],activation='relu'))\n",
        "#model.add(LeakyReLU())\n",
        "model.add(Dropout(0.25))\n",
        "\n",
        "\n",
        "model.add(Dense(nodes,kernel_regularizer=l2(0.01), activation='relu'))\n",
        "#model.add(Dense(nodes, activation='relu'))\n",
        "model.add(Dropout(0.25))\n",
        "\n",
        "#model.add(Dense(nodes,kernel_regularizer=l2(0.01), activation='relu'))\n",
        "#model.add(Dense(nodes, activation='relu'))\n",
        "#model.add(Dropout(0.25))\n",
        "\n",
        "\n",
        "\n",
        "model.add(Dense(nodes,kernel_regularizer=l2(0.01), activation='relu'))\n",
        "#model.add(Dense(nodes, activation='relu'))\n",
        "model.add(Dropout(0.25))\n",
        "\n",
        "\n",
        "model.add(Dense(1, activation='sigmoid'))\n",
        "\n",
        "          \n",
        "#model.compile(loss='mse',optimizer='rmsprop',metrics=['mse', 'mae', 'mape', 'cosine'])\n",
        "\n",
        "#model.compile(optimizer='adam', \n",
        " #             loss='binary_crossentropy', \n",
        " #             metrics=['accuracy'])\n",
        "\n",
        "model.compile(optimizer='adam',loss='mse',metrics=['mse'])"
      ],
      "execution_count": null,
      "outputs": []
    },
    {
      "cell_type": "code",
      "metadata": {
        "colab": {
          "base_uri": "https://localhost:8080/"
        },
        "id": "rOQvpjHQnbfs",
        "outputId": "ef988f08-2478-47b5-e8f3-e3ab9b4057a1"
      },
      "source": [
        "for m in model.layers:\n",
        "    print(m.name, m.input_shape,'---->',m.output_shape)\n",
        "\n",
        "print(model.summary())"
      ],
      "execution_count": null,
      "outputs": [
        {
          "output_type": "stream",
          "name": "stdout",
          "text": [
            "dense_2 (None, 902) ----> (None, 924)\n",
            "dropout_1 (None, 924) ----> (None, 924)\n",
            "dense_3 (None, 924) ----> (None, 924)\n",
            "dropout_2 (None, 924) ----> (None, 924)\n",
            "dense_4 (None, 924) ----> (None, 924)\n",
            "dropout_3 (None, 924) ----> (None, 924)\n",
            "dense_5 (None, 924) ----> (None, 1)\n",
            "Model: \"sequential_1\"\n",
            "_________________________________________________________________\n",
            " Layer (type)                Output Shape              Param #   \n",
            "=================================================================\n",
            " dense_2 (Dense)             (None, 924)               834372    \n",
            "                                                                 \n",
            " dropout_1 (Dropout)         (None, 924)               0         \n",
            "                                                                 \n",
            " dense_3 (Dense)             (None, 924)               854700    \n",
            "                                                                 \n",
            " dropout_2 (Dropout)         (None, 924)               0         \n",
            "                                                                 \n",
            " dense_4 (Dense)             (None, 924)               854700    \n",
            "                                                                 \n",
            " dropout_3 (Dropout)         (None, 924)               0         \n",
            "                                                                 \n",
            " dense_5 (Dense)             (None, 1)                 925       \n",
            "                                                                 \n",
            "=================================================================\n",
            "Total params: 2,544,697\n",
            "Trainable params: 2,544,697\n",
            "Non-trainable params: 0\n",
            "_________________________________________________________________\n",
            "None\n"
          ]
        }
      ]
    },
    {
      "cell_type": "code",
      "metadata": {
        "colab": {
          "base_uri": "https://localhost:8080/",
          "height": 865
        },
        "id": "ix1yS5QVne4F",
        "outputId": "6c52bb41-fcc3-4305-caa5-42f8d8151a0b"
      },
      "source": [
        "from keras.utils.vis_utils import plot_model\n",
        "plot_model(model,to_file='model_dnn.png', show_shapes=True, show_layer_names=True)"
      ],
      "execution_count": null,
      "outputs": [
        {
          "output_type": "execute_result",
          "data": {
            "image/png": "[encoded data removed]",
            "text/plain": [
              "<IPython.core.display.Image object>"
            ]
          },
          "metadata": {},
          "execution_count": 19
        }
      ]
    },
    {
      "cell_type": "code",
      "metadata": {
        "colab": {
          "base_uri": "https://localhost:8080/"
        },
        "id": "h-LN9pXmnib8",
        "outputId": "f427a9b9-1504-4507-ded1-73bee43b16c1"
      },
      "source": [
        "#filepath=\"epoch-{epoch:02d}-{val_loss:.4f}.hdf5\"\n",
        "#checkpoint = ModelCheckpoint(filepath, monitor='val_loss', verbose=1,save_best_only=False, mode='auto', period=1)\n",
        "# history= model.fit(X_train, y_train, batch_size=200, epochs=12, verbose=2,validation_data = [X_val,y_val])#,callbacks=[checkpoint])"
      ],
      "execution_count": null,
      "outputs": [
        {
          "output_type": "stream",
          "name": "stdout",
          "text": [
            "Epoch 1/12\n",
            "676/676 - 8s - loss: 0.6264 - mse: 0.1831 - val_loss: 0.1809 - val_mse: 0.1758 - 8s/epoch - 12ms/step\n",
            "Epoch 2/12\n",
            "676/676 - 4s - loss: 0.1784 - mse: 0.1729 - val_loss: 0.1806 - val_mse: 0.1760 - 4s/epoch - 6ms/step\n",
            "Epoch 3/12\n",
            "676/676 - 4s - loss: 0.1735 - mse: 0.1666 - val_loss: 0.1775 - val_mse: 0.1706 - 4s/epoch - 6ms/step\n",
            "Epoch 4/12\n",
            "676/676 - 5s - loss: 0.1650 - mse: 0.1532 - val_loss: 0.1741 - val_mse: 0.1611 - 5s/epoch - 7ms/step\n",
            "Epoch 5/12\n",
            "676/676 - 4s - loss: 0.1494 - mse: 0.1325 - val_loss: 0.1717 - val_mse: 0.1547 - 4s/epoch - 6ms/step\n",
            "Epoch 6/12\n",
            "676/676 - 4s - loss: 0.1324 - mse: 0.1121 - val_loss: 0.1750 - val_mse: 0.1552 - 4s/epoch - 6ms/step\n",
            "Epoch 7/12\n",
            "676/676 - 5s - loss: 0.1172 - mse: 0.0953 - val_loss: 0.1768 - val_mse: 0.1562 - 5s/epoch - 7ms/step\n",
            "Epoch 8/12\n",
            "676/676 - 5s - loss: 0.1041 - mse: 0.0812 - val_loss: 0.1845 - val_mse: 0.1612 - 5s/epoch - 7ms/step\n",
            "Epoch 9/12\n",
            "676/676 - 4s - loss: 0.0932 - mse: 0.0699 - val_loss: 0.1848 - val_mse: 0.1635 - 4s/epoch - 7ms/step\n",
            "Epoch 10/12\n",
            "676/676 - 4s - loss: 0.0836 - mse: 0.0603 - val_loss: 0.1866 - val_mse: 0.1640 - 4s/epoch - 7ms/step\n",
            "Epoch 11/12\n",
            "676/676 - 4s - loss: 0.0767 - mse: 0.0536 - val_loss: 0.1889 - val_mse: 0.1659 - 4s/epoch - 7ms/step\n",
            "Epoch 12/12\n",
            "676/676 - 4s - loss: 0.0698 - mse: 0.0473 - val_loss: 0.1892 - val_mse: 0.1668 - 4s/epoch - 7ms/step\n"
          ]
        }
      ]
    },
    {
      "cell_type": "code",
      "metadata": {
        "colab": {
          "base_uri": "https://localhost:8080/"
        },
        "id": "gSJLKCNTrNbT",
        "outputId": "fa41c937-7b14-4b8c-bb16-f31926597dac"
      },
      "source": [
        "model.save(os.path.join(path, 'dnn_checkpoint'))"
      ],
      "execution_count": null,
      "outputs": [
        {
          "output_type": "stream",
          "name": "stdout",
          "text": [
            "INFO:tensorflow:Assets written to: /content/drive/Shareddrives/DataMiningProject/dnn_checkpoint/assets\n"
          ]
        }
      ]
    },
    {
      "cell_type": "code",
      "metadata": {
        "id": "c5PVHbAPqyeC"
      },
      "source": [
        "from sklearn.feature_extraction.text import CountVectorizer, TfidfVectorizer\n"
      ],
      "execution_count": null,
      "outputs": []
    },
    {
      "cell_type": "code",
      "metadata": {
        "id": "jSTAxlD0rCWd"
      },
      "source": [
        "train_data = '/content/drive/Shareddrives/DataMiningProject/datasets/train.csv'\n",
        "train = pd.read_csv(train_data)\n"
      ],
      "execution_count": null,
      "outputs": []
    },
    {
      "cell_type": "code",
      "metadata": {
        "id": "LvkCHZkkrL03"
      },
      "source": [
        "tf = TfidfVectorizer(binary = False, ngram_range = (1,2), stop_words = 'english',min_df=0.01,max_df=0.3)\n",
        "train_corpus = train['review']\n",
        "train_tfidf = tf.fit_transform(train_corpus)\n"
      ],
      "execution_count": null,
      "outputs": []
    },
    {
      "cell_type": "code",
      "metadata": {
        "colab": {
          "base_uri": "https://localhost:8080/"
        },
        "id": "rKbatzxUqR1J",
        "outputId": "423e9e59-a14b-4bbf-e9dc-deee6468b968"
      },
      "source": [
        "test_data = '/content/drive/Shareddrives/DataMiningProject/datasets/filtered.csv'\n",
        "filt = pd.read_csv(test_data)\n",
        "filt = filt.dropna()\n",
        "filt_corpus=filt['review']\n",
        "filt_tfidf=tf.transform(filt_corpus.values.astype('U'))\n",
        "filt_features=filt_tfidf.toarray()\n",
        "filt_features.shape"
      ],
      "execution_count": null,
      "outputs": [
        {
          "output_type": "execute_result",
          "data": {
            "text/plain": [
              "(10, 923)"
            ]
          },
          "metadata": {},
          "execution_count": 26
        }
      ]
    },
    {
      "cell_type": "code",
      "metadata": {
        "id": "pg7ocfMwrb4q"
      },
      "source": [
        "X_filt=np.c_[filt_features,filt['rating'].values/5]\n",
        "y_filt = filt['label'].values\n"
      ],
      "execution_count": null,
      "outputs": []
    },
    {
      "cell_type": "code",
      "metadata": {
        "id": "i5kPDF5Irveu"
      },
      "source": [
        "model = load_model(os.path.join(path, 'dnn_checkpoint'))"
      ],
      "execution_count": null,
      "outputs": []
    },
    {
      "cell_type": "code",
      "metadata": {
        "colab": {
          "base_uri": "https://localhost:8080/",
          "height": 654
        },
        "id": "KCqnb8t2n-Ku",
        "outputId": "04781de2-bb4a-4939-95c4-f52c65ea247d"
      },
      "source": [
        "plt.figure(figsize=(12 ,10))\n",
        "plt.plot(history.history['loss'],linewidth=1.3)\n",
        "plt.plot(history.history['val_loss'],linewidth=1.3)\n",
        "plt.title('Model loss',fontsize=20,fontname='Times New Roman')\n",
        "plt.ylabel('Loss',fontsize=20,fontname='Times New Roman')\n",
        "plt.xlabel('Epoch',fontsize=20,fontname='Times New Roman')\n",
        "plt.legend(['Train', 'Validation'], loc='upper right')\n",
        "plt.show()"
      ],
      "execution_count": null,
      "outputs": [
        {
          "output_type": "stream",
          "name": "stderr",
          "text": [
            "findfont: Font family ['Times New Roman'] not found. Falling back to DejaVu Sans.\n"
          ]
        },
        {
          "output_type": "display_data",
          "data": {
            "image/png": "[encoded data removed]",
            "text/plain": [
              "<Figure size 864x720 with 1 Axes>"
            ]
          },
          "metadata": {
            "needs_background": "light"
          }
        }
      ]
    },
    {
      "cell_type": "code",
      "metadata": {
        "id": "8K0qQ0E3pXxr"
      },
      "source": [
        "probs_val = model.predict(X_val)\n",
        "probs_val = np.squeeze(probs_val)"
      ],
      "execution_count": null,
      "outputs": []
    },
    {
      "cell_type": "code",
      "metadata": {
        "id": "o4fWUS9GrxU2"
      },
      "source": [
        "pred = model.predict(X_filt)\n",
        "\n",
        "binary_predictions = []\n",
        "\n",
        "for i in pred:\n",
        "    if i >= 0.5:\n",
        "        binary_predictions.append(1)\n",
        "    else:\n",
        "        binary_predictions.append(0)\n"
      ],
      "execution_count": null,
      "outputs": []
    },
    {
      "cell_type": "code",
      "metadata": {
        "colab": {
          "base_uri": "https://localhost:8080/"
        },
        "id": "sdqTTVoVsbTH",
        "outputId": "f3134994-b769-4677-911d-ca9c1b275710"
      },
      "source": [
        "binary_predictions"
      ],
      "execution_count": null,
      "outputs": [
        {
          "output_type": "execute_result",
          "data": {
            "text/plain": [
              "[0, 1, 0, 0, 0, 0, 0, 0, 0, 0]"
            ]
          },
          "metadata": {},
          "execution_count": 30
        }
      ]
    },
    {
      "cell_type": "code",
      "metadata": {
        "colab": {
          "base_uri": "https://localhost:8080/"
        },
        "id": "BLXp1QSkpavb",
        "outputId": "1672b2a4-0d2f-49f8-af67-4e01ce229d8c"
      },
      "source": [
        "probs_val[0:10]"
      ],
      "execution_count": null,
      "outputs": [
        {
          "output_type": "execute_result",
          "data": {
            "text/plain": [
              "array([6.3754059e-02, 3.0232841e-01, 6.5664072e-03, 2.9309801e-04,\n",
              "       1.5175910e-03, 5.0565940e-01, 2.8559288e-01, 6.2002406e-02,\n",
              "       5.9696231e-02, 1.5220717e-01], dtype=float32)"
            ]
          },
          "metadata": {},
          "execution_count": 18
        }
      ]
    },
    {
      "cell_type": "code",
      "metadata": {
        "id": "GceXrmBYpcmL"
      },
      "source": [
        "from sklearn import metrics\n",
        "\n",
        "from sklearn.metrics import roc_auc_score\n",
        "from sklearn.metrics import accuracy_score\n",
        "from sklearn.metrics import average_precision_score"
      ],
      "execution_count": null,
      "outputs": []
    },
    {
      "cell_type": "code",
      "metadata": {
        "colab": {
          "base_uri": "https://localhost:8080/"
        },
        "id": "_g9NhBCDpe2a",
        "outputId": "d295f13d-b1e3-4a22-f61d-e2436394da1f"
      },
      "source": [
        "fpr_w,tpr_w,threshold_w = metrics.roc_curve(y_val, probs_val)\n",
        "auc_w = metrics.auc(fpr_w,tpr_w)\n",
        "auc_w"
      ],
      "execution_count": null,
      "outputs": [
        {
          "output_type": "execute_result",
          "data": {
            "text/plain": [
              "0.8042671161236503"
            ]
          },
          "metadata": {},
          "execution_count": 20
        }
      ]
    },
    {
      "cell_type": "code",
      "metadata": {
        "colab": {
          "base_uri": "https://localhost:8080/"
        },
        "id": "mYz3V_cEphCD",
        "outputId": "6bef6980-3a58-4c97-a961-6dd7688a512d"
      },
      "source": [
        "ap=average_precision_score(y_val, probs_val)\n",
        "ap"
      ],
      "execution_count": null,
      "outputs": [
        {
          "output_type": "execute_result",
          "data": {
            "text/plain": [
              "0.7485814345296418"
            ]
          },
          "metadata": {},
          "execution_count": 21
        }
      ]
    },
    {
      "cell_type": "code",
      "metadata": {
        "colab": {
          "base_uri": "https://localhost:8080/"
        },
        "id": "U5kvgzMhpirS",
        "outputId": "7beaf1ee-7653-4bfa-93d2-9f187a3ddf38"
      },
      "source": [
        "#Training AUC check for overfitting\n",
        "p = model.predict(X_train)  # probability for label=1\n",
        "p=np.squeeze(p)\n",
        "f,t,thres = metrics.roc_curve(y_train, p)\n",
        "auc_train = metrics.auc(f,t)\n",
        "auc_train"
      ],
      "execution_count": null,
      "outputs": [
        {
          "output_type": "execute_result",
          "data": {
            "text/plain": [
              "0.984417353434864"
            ]
          },
          "metadata": {},
          "execution_count": 22
        }
      ]
    },
    {
      "cell_type": "code",
      "metadata": {
        "id": "qOhva-kfn98S"
      },
      "source": [
        "filt = pd.read_csv('datasets/filtered.csv')"
      ],
      "execution_count": null,
      "outputs": []
    },
    {
      "cell_type": "code",
      "metadata": {
        "colab": {
          "base_uri": "https://localhost:8080/",
          "height": 638
        },
        "id": "noMYQ9mZppiC",
        "outputId": "92708740-f135-45b5-9b54-46a0a3b50896"
      },
      "source": [
        "plt.figure(figsize=(12 ,10))\n",
        "#plt.plot(fpr, tpr, color='red', label='( ROC_LR, AUC=%0.3f)'%auc)\n",
        "plt.plot(fpr_w, tpr_w, color='Red', label='( Deep Neural Network ROC, AUC=%0.3f)'%auc_w)\n",
        "\n",
        "plt.plot([0, 1], [0, 1], color='black', linestyle='--')\n",
        "plt.xlabel('False Positive Rate(FPR)')\n",
        "plt.ylabel('True Positive Rate(TPR)')\n",
        "plt.title('Receiver Operating Characteristic (ROC) Curve')\n",
        "plt.legend(loc=4) #4:lower right legend"
      ],
      "execution_count": null,
      "outputs": [
        {
          "output_type": "execute_result",
          "data": {
            "text/plain": [
              "<matplotlib.legend.Legend at 0x7f762bfea410>"
            ]
          },
          "metadata": {},
          "execution_count": 23
        },
        {
          "output_type": "display_data",
          "data": {
            "image/png": "[encoded data removed]",
            "text/plain": [
              "<Figure size 864x720 with 1 Axes>"
            ]
          },
          "metadata": {
            "needs_background": "light"
          }
        }
      ]
    },
    {
      "cell_type": "code",
      "metadata": {
        "colab": {
          "base_uri": "https://localhost:8080/"
        },
        "id": "bPhywsOopsuZ",
        "outputId": "5f16275b-f894-4fb9-8cc4-e971490d8fde"
      },
      "source": [
        "X_test.shape"
      ],
      "execution_count": null,
      "outputs": [
        {
          "output_type": "execute_result",
          "data": {
            "text/plain": [
              "(72165, 924)"
            ]
          },
          "metadata": {},
          "execution_count": 24
        }
      ]
    },
    {
      "cell_type": "code",
      "metadata": {
        "id": "OnlDHqyapxjZ"
      },
      "source": [
        "probs_test = model.predict(X_test)\n",
        "probs_test = np.squeeze(probs_test)"
      ],
      "execution_count": null,
      "outputs": []
    },
    {
      "cell_type": "code",
      "metadata": {
        "id": "izUJuMFrp0E7"
      },
      "source": [
        "np.savetxt(os.path.join(path,'predictions.csv'), probs_test)"
      ],
      "execution_count": null,
      "outputs": []
    },
    {
      "cell_type": "code",
      "metadata": {
        "id": "AC6Wh6POp3pb"
      },
      "source": [
        ""
      ],
      "execution_count": null,
      "outputs": []
    },
    {
      "cell_type": "markdown",
      "metadata": {
        "id": "cK5mV2QeFg2V"
      },
      "source": [
        "# **RNN Classifier**"
      ]
    },
    {
      "cell_type": "code",
      "metadata": {
        "id": "FQxWQmdTH24_"
      },
      "source": [
        "from sklearn.model_selection import train_test_split\n",
        "import re\n",
        "from tensorflow.keras.preprocessing.text import Tokenizer\n"
      ],
      "execution_count": null,
      "outputs": []
    },
    {
      "cell_type": "code",
      "metadata": {
        "id": "QYH-BAPyFlEO"
      },
      "source": [
        "import tensorflow as tf\n"
      ],
      "execution_count": null,
      "outputs": []
    },
    {
      "cell_type": "code",
      "metadata": {
        "colab": {
          "base_uri": "https://localhost:8080/"
        },
        "id": "AeAc004PHq4C",
        "outputId": "0bac572f-483e-4951-daee-0cbb19901d9e"
      },
      "source": [
        "max_vocab = 10000\n",
        "model = tf.keras.Sequential([\n",
        "    tf.keras.layers.Embedding(max_vocab, 32),\n",
        "    tf.keras.layers.Bidirectional(tf.keras.layers.LSTM(64,  return_sequences=True)),\n",
        "    tf.keras.layers.Bidirectional(tf.keras.layers.LSTM(16)),\n",
        "    tf.keras.layers.Dense(64, activation='relu'),\n",
        "    tf.keras.layers.Dropout(0.5),\n",
        "    tf.keras.layers.Dense(1)\n",
        "])\n",
        "\n",
        "model.summary()"
      ],
      "execution_count": null,
      "outputs": [
        {
          "output_type": "stream",
          "name": "stdout",
          "text": [
            "Model: \"sequential\"\n",
            "_________________________________________________________________\n",
            " Layer (type)                Output Shape              Param #   \n",
            "=================================================================\n",
            " embedding (Embedding)       (None, None, 32)          320000    \n",
            "                                                                 \n",
            " bidirectional (Bidirectiona  (None, None, 128)        49664     \n",
            " l)                                                              \n",
            "                                                                 \n",
            " bidirectional_1 (Bidirectio  (None, 32)               18560     \n",
            " nal)                                                            \n",
            "                                                                 \n",
            " dense (Dense)               (None, 64)                2112      \n",
            "                                                                 \n",
            " dropout (Dropout)           (None, 64)                0         \n",
            "                                                                 \n",
            " dense_1 (Dense)             (None, 1)                 65        \n",
            "                                                                 \n",
            "=================================================================\n",
            "Total params: 390,401\n",
            "Trainable params: 390,401\n",
            "Non-trainable params: 0\n",
            "_________________________________________________________________\n"
          ]
        }
      ]
    },
    {
      "cell_type": "code",
      "source": [
        "from keras.utils.vis_utils import plot_model\n",
        "plot_model(model, to_file='model_rnn.png',show_shapes=True, show_layer_names=True)"
      ],
      "metadata": {
        "colab": {
          "base_uri": "https://localhost:8080/",
          "height": 754
        },
        "id": "WNC_bIu9xewz",
        "outputId": "b821a68b-ab88-4132-f6ef-2f6b62110bbb"
      },
      "execution_count": null,
      "outputs": [
        {
          "output_type": "execute_result",
          "data": {
            "image/png": "[encoded data removed]",
            "text/plain": [
              "<IPython.core.display.Image object>"
            ]
          },
          "metadata": {},
          "execution_count": 5
        }
      ]
    },
    {
      "cell_type": "code",
      "metadata": {
        "colab": {
          "base_uri": "https://localhost:8080/"
        },
        "id": "j-2Y2RTlHtT6",
        "outputId": "c03f0ed3-c100-4d8e-f3f1-36186d8adfe4"
      },
      "source": [
        "early_stop = tf.keras.callbacks.EarlyStopping(monitor='val_loss', patience=2, restore_best_weights=True)\n",
        "model.compile(loss=tf.keras.losses.BinaryCrossentropy(from_logits=True),\n",
        "              optimizer=tf.keras.optimizers.Adam(1e-4),\n",
        "              metrics=['accuracy'])\n",
        "\n",
        "history= model.fit(X_train, y_train, batch_size=200, epochs=12, verbose=1,validation_data = [X_val,y_val])#,callbacks=[early_stop], shuffle=True)\n",
        "\n",
        "# history = model.fit(X_train, y_train, epochs=10,validation_split=0.1, batch_size=30, shuffle=True, callbacks=[early_stop])"
      ],
      "execution_count": null,
      "outputs": [
        {
          "output_type": "stream",
          "name": "stdout",
          "text": [
            "Epoch 1/12\n",
            "676/676 [==============================] - 3465s 5s/step - loss: 0.6389 - accuracy: 0.6667 - val_loss: 0.6351 - val_accuracy: 0.6667\n",
            "Epoch 2/12\n",
            "676/676 [==============================] - 3454s 5s/step - loss: 0.6373 - accuracy: 0.6667 - val_loss: 0.6347 - val_accuracy: 0.6667\n",
            "Epoch 3/12\n",
            "676/676 [==============================] - 3457s 5s/step - loss: 0.6370 - accuracy: 0.6667 - val_loss: 0.6351 - val_accuracy: 0.6667\n",
            "Epoch 4/12\n",
            "676/676 [==============================] - 3459s 5s/step - loss: 0.6368 - accuracy: 0.6667 - val_loss: 0.6346 - val_accuracy: 0.6667\n",
            "Epoch 5/12\n",
            "676/676 [==============================] - 3512s 5s/step - loss: 0.6368 - accuracy: 0.6667 - val_loss: 0.6345 - val_accuracy: 0.6667\n",
            "Epoch 6/12\n",
            "676/676 [==============================] - 3471s 5s/step - loss: 0.6366 - accuracy: 0.6667 - val_loss: 0.6345 - val_accuracy: 0.6667\n",
            "Epoch 7/12\n",
            "676/676 [==============================] - 3471s 5s/step - loss: 0.6366 - accuracy: 0.6667 - val_loss: 0.6347 - val_accuracy: 0.6667\n",
            "Epoch 8/12\n",
            "676/676 [==============================] - 3476s 5s/step - loss: 0.6363 - accuracy: 0.6667 - val_loss: 0.6344 - val_accuracy: 0.6667\n",
            "Epoch 9/12\n",
            "676/676 [==============================] - 3509s 5s/step - loss: 0.6363 - accuracy: 0.6667 - val_loss: 0.6344 - val_accuracy: 0.6667\n",
            "Epoch 10/12\n",
            "676/676 [==============================] - 3491s 5s/step - loss: 0.6362 - accuracy: 0.6667 - val_loss: 0.6344 - val_accuracy: 0.6667\n",
            "Epoch 11/12\n",
            "676/676 [==============================] - 3486s 5s/step - loss: 0.6363 - accuracy: 0.6667 - val_loss: 0.6344 - val_accuracy: 0.6667\n",
            "Epoch 12/12\n",
            "668/676 [============================>.] - ETA: 39s - loss: 0.6361 - accuracy: 0.6667"
          ]
        }
      ]
    },
    {
      "cell_type": "code",
      "metadata": {
        "id": "gzFicCboI402"
      },
      "source": [
        "path = '/content/drive/Shareddrives/DataMiningProject'\n",
        "model.save(os.path.join(path, 'Bi-LSTM'))"
      ],
      "execution_count": null,
      "outputs": []
    },
    {
      "cell_type": "code",
      "metadata": {
        "id": "NDX9qcGnHD-a"
      },
      "source": [
        "def normalize(data):\n",
        "    normalized = []\n",
        "    for i in data:\n",
        "        i = i.lower()\n",
        "        # get rid of urls\n",
        "        i = re.sub('https?://\\S+|www\\.\\S+', '', i)\n",
        "        # get rid of non words and extra spaces\n",
        "        i = re.sub('\\\\W', ' ', i)\n",
        "        i = re.sub('\\n', '', i)\n",
        "        i = re.sub(' +', ' ', i)\n",
        "        i = re.sub('^ ', '', i)\n",
        "        i = re.sub(' $', '', i)\n",
        "        normalized.append(i)\n",
        "    return normalized"
      ],
      "execution_count": null,
      "outputs": []
    },
    {
      "cell_type": "code",
      "metadata": {
        "id": "-NGjlGQsHEyi"
      },
      "source": [
        "train_data = '/content/drive/Shareddrives/DataMiningProject/datasets/train.csv'\n",
        "test_data = '/content/drive/Shareddrives/DataMiningProject/datasets/dev.csv'\n",
        "train = pd.read_csv(train_data)\n",
        "test = pd.read_csv(test_data)\n",
        "reviews = pd.concat([train, test], ignore_index=True, sort=False)\n",
        "targets = reviews.pop('label')\n",
        "features = reviews.pop('review')\n",
        "X_train, X_test, y_train, y_test = train_test_split(features, targets, test_size=0.20, random_state=18)\n",
        "X_train = normalize(X_train)\n",
        "X_test = normalize(X_test)\n",
        "\n",
        "max_vocab = 10000\n",
        "tokenizer = Tokenizer(num_words=max_vocab)\n",
        "tokenizer.fit_on_texts(X_train)\n",
        "\n",
        "X_train = tokenizer.texts_to_sequences(X_train)\n",
        "X_test = tokenizer.texts_to_sequences(X_test)\n",
        "\n",
        "X_train = tf.keras.preprocessing.sequence.pad_sequences(X_train, padding='post', maxlen=256)\n",
        "X_test = tf.keras.preprocessing.sequence.pad_sequences(X_test, padding='post', maxlen=256)"
      ],
      "execution_count": null,
      "outputs": []
    },
    {
      "cell_type": "code",
      "metadata": {
        "id": "PPXsPd0Eo2TU"
      },
      "source": [
        "test_data = '/content/drive/Shareddrives/DataMiningProject/datasets/filtered.csv'\n",
        "reviews = pd.read_csv(test_data)\n",
        "features = reviews.pop('review')\n",
        "X_filt = normalize(features)\n",
        "max_vocab = 10000\n",
        "tokenizer = Tokenizer(num_words=max_vocab)\n",
        "tokenizer.fit_on_texts(X_filt)\n",
        "\n",
        "X_filt = tokenizer.texts_to_sequences(X_filt)\n",
        "\n",
        "X_filt = tf.keras.preprocessing.sequence.pad_sequences(X_filt, padding='post', maxlen=256)"
      ],
      "execution_count": null,
      "outputs": []
    },
    {
      "cell_type": "code",
      "metadata": {
        "id": "d82LcvSt68G4",
        "colab": {
          "base_uri": "https://localhost:8080/"
        },
        "outputId": "38cf794d-4db6-4422-85da-0496f1f09387"
      },
      "source": [
        "model = load_model(os.path.join(path, 'LSTM_new'))"
      ],
      "execution_count": null,
      "outputs": [
        {
          "output_type": "stream",
          "name": "stdout",
          "text": [
            "WARNING:tensorflow:SavedModel saved prior to TF 2.5 detected when loading Keras model. Please ensure that you are saving the model with model.save() or tf.keras.models.save_model(), *NOT* tf.saved_model.save(). To confirm, there should be a file named \"keras_metadata.pb\" in the SavedModel directory.\n"
          ]
        }
      ]
    },
    {
      "cell_type": "code",
      "metadata": {
        "id": "A0ULb0IKIDLq"
      },
      "source": [
        "history_dict = history.history\n",
        "\n",
        "acc = history_dict['accuracy']\n",
        "val_acc = history_dict['val_accuracy']\n",
        "loss = history_dict['loss']\n",
        "val_loss = history_dict['val_loss']\n",
        "epochs = history.epoch\n",
        "\n",
        "plt.figure(figsize=(12,9))\n",
        "plt.plot(epochs, loss, 'r', label='Training loss')\n",
        "plt.plot(epochs, val_loss, 'b', label='Validation loss')\n",
        "plt.title('Training and validation loss', size=20)\n",
        "plt.xlabel('Epochs', size=20)\n",
        "plt.ylabel('Loss', size=20)\n",
        "plt.legend(prop={'size': 20})\n",
        "plt.show()\n",
        "\n",
        "plt.figure(figsize=(12,9))\n",
        "plt.plot(epochs, acc, 'g', label='Training acc')\n",
        "plt.plot(epochs, val_acc, 'b', label='Validation acc')\n",
        "plt.title('Training and validation accuracy', size=20)\n",
        "plt.xlabel('Epochs', size=20)\n",
        "plt.ylabel('Accuracy', size=20)\n",
        "plt.legend(prop={'size': 20})\n",
        "plt.ylim((0.5,1))\n",
        "plt.show()"
      ],
      "execution_count": null,
      "outputs": []
    },
    {
      "cell_type": "code",
      "metadata": {
        "id": "y5dUNisFI3LA",
        "colab": {
          "base_uri": "https://localhost:8080/"
        },
        "outputId": "f19c5465-e2de-4e0c-fada-ee13a023e585"
      },
      "source": [
        "model.evaluate(X_test, y_test)"
      ],
      "execution_count": null,
      "outputs": [
        {
          "output_type": "stream",
          "name": "stdout",
          "text": [
            "1793/1793 [==============================] - 162s 90ms/step - loss: 0.3042 - accuracy: 0.8945\n"
          ]
        },
        {
          "output_type": "execute_result",
          "data": {
            "text/plain": [
              "[0.30417320132255554, 0.8944891095161438]"
            ]
          },
          "metadata": {},
          "execution_count": 18
        }
      ]
    },
    {
      "cell_type": "code",
      "metadata": {
        "id": "35L0ACVmJQpM"
      },
      "source": [
        "pred = model.predict(X_filt)\n",
        "\n",
        "binary_predictions = []\n",
        "\n",
        "for i in pred:\n",
        "    if i >= 0.5:\n",
        "        binary_predictions.append(1)\n",
        "    else:\n",
        "        binary_predictions.append(0) "
      ],
      "execution_count": null,
      "outputs": []
    },
    {
      "cell_type": "code",
      "metadata": {
        "colab": {
          "base_uri": "https://localhost:8080/"
        },
        "id": "5bPRbU1Ap6zk",
        "outputId": "c856b033-9dac-486f-d655-648376003c7a"
      },
      "source": [
        "binary_predictions"
      ],
      "execution_count": null,
      "outputs": [
        {
          "output_type": "execute_result",
          "data": {
            "text/plain": [
              "[0, 1, 0, 0, 1, 0, 0, 0, 0, 1]"
            ]
          },
          "metadata": {},
          "execution_count": 19
        }
      ]
    },
    {
      "cell_type": "code",
      "metadata": {
        "id": "IzhhQz_yL3mc"
      },
      "source": [
        "from sklearn.metrics import accuracy_score\n",
        "from sklearn.model_selection import train_test_split\n",
        "from sklearn.metrics import accuracy_score, confusion_matrix, precision_score, recall_score"
      ],
      "execution_count": null,
      "outputs": []
    },
    {
      "cell_type": "code",
      "metadata": {
        "id": "-A20zQE8JUh1",
        "colab": {
          "base_uri": "https://localhost:8080/"
        },
        "outputId": "6f002d20-5093-4720-bc88-fb40a8d7991b"
      },
      "source": [
        "print('Accuracy on testing set:', accuracy_score(binary_predictions, y_test))\n",
        "print('Precision on testing set:', precision_score(binary_predictions, y_test))\n",
        "print('Recall on testing set:', recall_score(binary_predictions, y_test))"
      ],
      "execution_count": null,
      "outputs": [
        {
          "output_type": "stream",
          "name": "stdout",
          "text": [
            "Accuracy on testing set: 0.8944890949981694\n",
            "Precision on testing set: 0.0\n",
            "Recall on testing set: 0.0\n"
          ]
        },
        {
          "output_type": "stream",
          "name": "stderr",
          "text": [
            "/usr/local/lib/python3.7/dist-packages/sklearn/metrics/_classification.py:1308: UndefinedMetricWarning: Recall is ill-defined and being set to 0.0 due to no true samples. Use `zero_division` parameter to control this behavior.\n",
            "  _warn_prf(average, modifier, msg_start, len(result))\n"
          ]
        }
      ]
    },
    {
      "cell_type": "code",
      "metadata": {
        "id": "5nkB7n8UJVWk",
        "colab": {
          "base_uri": "https://localhost:8080/"
        },
        "outputId": "c898d753-b8f1-4a9a-e78c-9bb72e2befc4"
      },
      "source": [
        "matrix = confusion_matrix(binary_predictions, y_test, normalize='all')\n",
        "matrix"
      ],
      "execution_count": null,
      "outputs": [
        {
          "output_type": "execute_result",
          "data": {
            "text/plain": [
              "array([[0.89448909, 0.10551091],\n",
              "       [0.        , 0.        ]])"
            ]
          },
          "metadata": {},
          "execution_count": 23
        }
      ]
    }
  ]
}